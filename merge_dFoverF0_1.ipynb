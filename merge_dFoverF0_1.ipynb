{
 "cells": [
  {
   "cell_type": "code",
   "execution_count": 1,
   "metadata": {},
   "outputs": [],
   "source": [
    "import os\n",
    "import pandas as pd\n",
    "import numpy as np\n",
    "import matplotlib.pyplot as plt\n",
    "from matplotlib.ticker import MaxNLocator"
   ]
  },
  {
   "cell_type": "code",
   "execution_count": 2,
   "metadata": {},
   "outputs": [],
   "source": [
    "def merge_data(results_folder, position_t=999, plot_title = 'Average \\u0394F/F0'):\n",
    "    \n",
    "    try:\n",
    "        os.mkdir(f\"{results_folder}/merged_data\")\n",
    "\n",
    "    except:\n",
    "        pass\n",
    "    \n",
    "\n",
    "    position_t_column = np.arange(0,position_t)\n",
    "    position_t_array = pd.DataFrame(position_t_column, columns = ['POSITION_T'])\n",
    "    \n",
    "    output_file_path = f\"{results_folder}/merged_data/merged_data.csv\"\n",
    "    POSITION_T_path = f\"{results_folder}/merged_data/position_t.csv\"\n",
    "    position_t_array.to_csv(POSITION_T_path,index=False)\n",
    "    \n",
    "    for filename in os.listdir(results_folder):\n",
    "        if filename.endswith(\".csv\"):\n",
    "            POSITION_T = pd.read_csv(POSITION_T_path)\n",
    "            data = f\"{results_folder}/{filename}\"\n",
    "            column_name = os.path.splitext(filename)[0]\n",
    "            df = pd.read_csv(data, usecols=['dF/F0','POSITION_T'])\n",
    "            df.rename(columns = {\"dF/F0\": column_name}, inplace = True)\n",
    "            joined = POSITION_T.merge(df, on = \"POSITION_T\", how='left')\n",
    "            joined.to_csv(POSITION_T_path,index=False, na_rep = \"\")\n",
    "    \n",
    "    merged_data = pd.read_csv(POSITION_T_path, na_values = '')\n",
    "    average_data = merged_data.drop('POSITION_T', 1)\n",
    "    average_column = average_data.mean(axis=1)\n",
    "    sem_column = average_data.sem(axis=1)\n",
    "    \n",
    "    merged_data_sort = merged_data.reindex(sorted(merged_data.columns), axis=1)\n",
    "    \n",
    "    cols = list(merged_data_sort.columns)\n",
    "    cols = [cols[-1]] + cols[:-1]\n",
    "    merged_data = merged_data_sort[cols]\n",
    "    \n",
    "    merged_data.to_csv(output_file_path,index=False, na_rep = \"\")\n",
    "    \n",
    "    merged_data_2 = pd.read_csv(output_file_path)\n",
    "    merged_data_2['Average'] = average_column\n",
    "    merged_data_2['SEM'] = sem_column\n",
    "    \n",
    "    \n",
    "    merged_data_2.to_csv(output_file_path,index=False, na_rep = \"\")\n",
    "    os.remove(POSITION_T_path)\n",
    "    \n",
    "    merged_plot = merged_data_2.plot.line(x=\"POSITION_T\", y=\"Average\", yerr=\"SEM\", legend=False, title = plot_title)\n",
    "    merged_plot.set_xlabel(\"Position T\")\n",
    "    merged_plot.set_ylabel(\"\\u0394F/F0\")\n",
    "    merged_plot.xaxis.set_major_locator(MaxNLocator(integer=True))\n",
    "    plt.savefig(f\"{results_folder}/merged_data/Average_dF_F0.png\", bbox_inches = \"tight\")\n",
    "    "
   ]
  },
  {
   "cell_type": "code",
   "execution_count": 3,
   "metadata": {},
   "outputs": [
    {
     "name": "stderr",
     "output_type": "stream",
     "text": [
      "/opt/anaconda3/lib/python3.8/site-packages/numpy/core/_asarray.py:136: UserWarning: Warning: converting a masked element to nan.\n",
      "  return array(a, dtype, copy=False, order=order, subok=True)\n"
     ]
    },
    {
     "data": {
      "image/png": "[encoded data removed]",
      "text/plain": [
       "<Figure size 432x288 with 1 Axes>"
      ]
     },
     "metadata": {
      "needs_background": "light"
     },
     "output_type": "display_data"
    }
   ],
   "source": [
    "merge_data(r'/Users/alisasmacbook/Desktop/Practice 3/Analysis/results', \n",
    "           position_t=88, \n",
    "           plot_title = 'Average \\u0394F/F0')"
   ]
  },
  {
   "cell_type": "code",
   "execution_count": null,
   "metadata": {},
   "outputs": [],
   "source": []
  },
  {
   "cell_type": "code",
   "execution_count": null,
   "metadata": {},
   "outputs": [],
   "source": []
  }
 ],
 "metadata": {
  "kernelspec": {
   "display_name": "Python 3",
   "language": "python",
   "name": "python3"
  },
  "language_info": {
   "codemirror_mode": {
    "name": "ipython",
    "version": 3
   },
   "file_extension": ".py",
   "mimetype": "text/x-python",
   "name": "python",
   "nbconvert_exporter": "python",
   "pygments_lexer": "ipython3",
   "version": "3.8.5"
  }
 },
 "nbformat": 4,
 "nbformat_minor": 4
}
